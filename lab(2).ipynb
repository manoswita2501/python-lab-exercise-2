{
 "cells": [
  {
   "cell_type": "code",
   "execution_count": 1,
   "metadata": {},
   "outputs": [
    {
     "name": "stdout",
     "output_type": "stream",
     "text": [
      "Initial List: ['hospital', 'doctor', 'patient', 'medicine', 'surgery']\n",
      "List after Modifications: ['hospital', 'doctor', 'diagnosis', 'patient', 'medicine', 'surgery', 'nurse', 'pharmacy', 'therapy']\n"
     ]
    }
   ],
   "source": [
    "# Creating a list with my domain attributes\n",
    "medical_list = ['hospital', 'doctor', 'patient', 'medicine', 'surgery']\n",
    "\n",
    "# Printing the initial list\n",
    "print(\"Initial List:\", medical_list)\n",
    "\n",
    "# Appending an element to the list\n",
    "medical_list.append('nurse')\n",
    "\n",
    "# Inserting an element at a specific index\n",
    "medical_list.insert(2, 'diagnosis')\n",
    "\n",
    "# Extending the list with another iterable (tuple)\n",
    "additional_attributes = ('pharmacy', 'therapy')\n",
    "medical_list.extend(additional_attributes)\n",
    "\n",
    "# Printing the list after modifications\n",
    "print(\"List after Modifications:\", medical_list)"
   ]
  },
  {
   "cell_type": "code",
   "execution_count": 2,
   "metadata": {},
   "outputs": [
    {
     "name": "stdout",
     "output_type": "stream",
     "text": [
      "Initial List: [5, 9, 12, 31, 42, 26, 7, 38, 65, 43]\n",
      "List after Swapping First and Last Elements: [43, 9, 12, 31, 42, 26, 7, 38, 65, 5]\n",
      "Sum of Digits: 71\n",
      "Smallest Element: 5\n"
     ]
    }
   ],
   "source": [
    "# Taking user input for the list of numeric elements\n",
    "list = input(\"Enter a list of numeric elements, separated by spaces: \").split()\n",
    "list = [int(num) for num in list]\n",
    "\n",
    "# Printing the initial list\n",
    "print(\"Initial List:\", list)\n",
    "\n",
    "# Swapping the first and last elements in the list\n",
    "list[0], list[-1] = list[-1], list[0]\n",
    "\n",
    "# Printing the list after swapping\n",
    "print(\"List after Swapping First and Last Elements:\", list)\n",
    "\n",
    "# Finding the sum of the digits in the list\n",
    "digit_sum = 0\n",
    "for num in list:\n",
    "    digit_sum += sum(int(digit) for digit in str(num))\n",
    "\n",
    "# Printing the sum of the digits\n",
    "print(\"Sum of Digits:\", digit_sum)\n",
    "\n",
    "# Finding the smallest element in the list\n",
    "smallest_element = list[0]\n",
    "for num in list:\n",
    "    if num < smallest_element:\n",
    "        smallest_element = num\n",
    "\n",
    "# Printing the smallest element\n",
    "print(\"Smallest Element:\", smallest_element)"
   ]
  },
  {
   "cell_type": "code",
   "execution_count": 4,
   "metadata": {},
   "outputs": [
    {
     "name": "stdout",
     "output_type": "stream",
     "text": [
      "Initial Dictionary: {'medicine': 34, 'mask': 62, 'xray': 8, 'bed': 71, 'pharmacy': 37}\n",
      "Sum of All Values: 212\n",
      "Sorted Dictionary (Ascending Order): {'bed': 71, 'mask': 62, 'medicine': 34, 'pharmacy': 37, 'xray': 8}\n"
     ]
    }
   ],
   "source": [
    "# Taking user input for dictionary elements\n",
    "num_entries = int(input(\"Enter the number of dictionary entries: \"))\n",
    "num_dict = {}\n",
    "\n",
    "for _ in range(num_entries):\n",
    "    key = input(\"Enter the key: \")\n",
    "    value = int(input(\"Enter the value (numeric): \"))\n",
    "    num_dict[key] = value\n",
    "\n",
    "# Printing the initial dictionary\n",
    "print(\"Initial Dictionary:\", num_dict)\n",
    "\n",
    "# Finding the sum of all the values in the dictionary\n",
    "total = 0\n",
    "for value in num_dict.values():\n",
    "    total += value\n",
    "\n",
    "# Printing the sum of all values\n",
    "print(\"Sum of All Values:\", total)\n",
    "\n",
    "# Sorting the dictionary in ascending order based on keys\n",
    "sorted_dict = {key: num_dict[key] for key in sorted(num_dict)}\n",
    "\n",
    "# Printing the sorted dictionary\n",
    "print(\"Sorted Dictionary (Ascending Order):\", sorted_dict)"
   ]
  },
  {
   "cell_type": "code",
   "execution_count": 5,
   "metadata": {},
   "outputs": [
    {
     "name": "stdout",
     "output_type": "stream",
     "text": [
      "Sorted Dictionary (Descending Order of Values): {'nurse': 99, 'tablet': 87, 'therapy': 63, 'doctor': 57}\n"
     ]
    }
   ],
   "source": [
    "# Taking user input for dictionary elements\n",
    "num_entries = int(input(\"Enter the number of dictionary entries: \"))\n",
    "sample_dict = {}\n",
    "\n",
    "for _ in range(num_entries):\n",
    "    key = input(\"Enter the key: \")\n",
    "    value = int(input(\"Enter the value (numeric): \"))\n",
    "    sample_dict[key] = value\n",
    "\n",
    "# Sorting in descending order of values using a lambda function\n",
    "sorted_dict = dict(sorted(sample_dict.items(), key=lambda item: item[1], reverse=True))\n",
    "\n",
    "# Printing the sorted dictionary\n",
    "print(\"Sorted Dictionary (Descending Order of Values):\", sorted_dict)"
   ]
  }
 ],
 "metadata": {
  "kernelspec": {
   "display_name": "Python 3",
   "language": "python",
   "name": "python3"
  },
  "language_info": {
   "codemirror_mode": {
    "name": "ipython",
    "version": 3
   },
   "file_extension": ".py",
   "mimetype": "text/x-python",
   "name": "python",
   "nbconvert_exporter": "python",
   "pygments_lexer": "ipython3",
   "version": "3.11.4"
  },
  "orig_nbformat": 4
 },
 "nbformat": 4,
 "nbformat_minor": 2
}
